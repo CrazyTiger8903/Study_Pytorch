{
  "nbformat": 4,
  "nbformat_minor": 0,
  "metadata": {
    "colab": {
      "provenance": [],
      "authorship_tag": "ABX9TyMoB6Jsq+OcNg/7ZFw/dY5l",
      "include_colab_link": true
    },
    "kernelspec": {
      "name": "python3",
      "display_name": "Python 3"
    },
    "language_info": {
      "name": "python"
    },
    "accelerator": "GPU",
    "gpuClass": "standard"
  },
  "cells": [
    {
      "cell_type": "markdown",
      "metadata": {
        "id": "view-in-github",
        "colab_type": "text"
      },
      "source": [
        "<a href=\"https://colab.research.google.com/github/Crazytiger0527/Study_Pytorch/blob/main/CNN_MNIST_keras.ipynb\" target=\"_parent\"><img src=\"https://colab.research.google.com/assets/colab-badge.svg\" alt=\"Open In Colab\"/></a>"
      ]
    },
    {
      "cell_type": "code",
      "source": [
        "## https://halfundecided.medium.com/%EB%94%A5%EB%9F%AC%EB%8B%9D-%EB%A8%B8%EC%8B%A0%EB%9F%AC%EB%8B%9D-python-keras%EB%A5%BC-%EC%82%AC%EC%9A%A9%ED%95%B4-%EC%86%90%EA%B8%80%EC%94%A8-%EC%88%AB%EC%9E%90-%EC%9D%B4%EB%AF%B8%EC%A7%80%EB%A5%BC-%EC%9D%B8%EC%8B%9D%ED%95%98%EB%8A%94-cnn-convolutional-neural-networks-%EB%AA%A8%EB%8D%B8-%EA%B5%AC%ED%98%84%ED%95%98%EA%B8%B0-2c7c315e9958\n",
        "## 1.데이터 준비와 전처리\n",
        "from keras.datasets import mnist\n",
        "\n",
        "(x_train, y_train), (x_test, y_test) = mnist.load_data()\n",
        "\n",
        "print('shape of x_train: ' + str(x_train.shape))\n",
        "print('shape of y_train: ' + str(y_train.shape))\n",
        "print('shape of x_test: ' + str(x_test.shape))\n",
        "print('shape of x_test: ' + str(x_test.shape))\n",
        "\n",
        "# shape of x_train: (60000, 28, 28)\n",
        "# shape of y_train: (60000,)\n",
        "# shape of x_test: (10000, 28, 28)\n",
        "# shape of x_test: (10000, 28, 28)\n",
        "# x_train : 모델 트레이닝을 위한 28*28크기의 matrix로 표현된 이미지 60000개\n",
        "# x_test : 모델 구현 후 테스팅을 위한 28*28크기의 matrix로 표현된 이미지 10000개\n",
        "# x_train : 모델 트레이닝을 위한 60000개의 숫자라벨\n",
        "# y_test : 모델 구현 후 테스팅을 위한 10000개의 숫자라벨"
      ],
      "metadata": {
        "colab": {
          "base_uri": "https://localhost:8080/",
          "height": 181
        },
        "id": "TygV7fMvPx4K",
        "outputId": "f9a0bd78-227c-49db-b688-4c7e11223b33"
      },
      "execution_count": 2,
      "outputs": [
        {
          "output_type": "stream",
          "name": "stdout",
          "text": [
            "Downloading data from https://storage.googleapis.com/tensorflow/tf-keras-datasets/mnist.npz\n",
            "11490434/11490434 [==============================] - 0s 0us/step\n",
            "shape of x_train: (60000, 28, 28)\n",
            "shape of y_train: (60000,)\n",
            "shape of x_test: (10000, 28, 28)\n",
            "shape of x_test: (10000, 28, 28)\n"
          ]
        },
        {
          "output_type": "execute_result",
          "data": {
            "text/plain": [
              "'\\nshape of x_train: (60000, 28, 28)\\nshape of y_train: (60000,)\\nshape of x_test: (10000, 28, 28)\\nshape of x_test: (10000, 28, 28)\\nx_train : 모델 트레이닝을 위한 28*28크기의 matrix로 표현된 이미지 60000개\\nx_test : 모델 구현 후 테스팅을 위한 28*28크기의 matrix로 표현된 이미지 10000개\\nx_train : 모델 트레이닝을 위한 60000개의 숫자라벨\\ny_test : 모델 구현 후 테스팅을 위한 10000개의 숫자라벨\\n'"
            ],
            "application/vnd.google.colaboratory.intrinsic+json": {
              "type": "string"
            }
          },
          "metadata": {},
          "execution_count": 2
        }
      ]
    },
    {
      "cell_type": "code",
      "source": [
        "# 이미지 데이터모양을 28*28*1로 reshape\n",
        "x_train_vec = x_train.reshape((60000,28,28,1))\n",
        "x_test_vec = x_test.reshape((10000,28,28,1))\n",
        "\n",
        "print(\"shape of x_train_vec is\" + str(x_train_vec.shape))\n",
        "print(\"shape of x_test_vec is\" + str(x_test_vec.shape))"
      ],
      "metadata": {
        "colab": {
          "base_uri": "https://localhost:8080/"
        },
        "id": "7kLPNqAKYJFU",
        "outputId": "d27d4ca0-0d07-4c09-a080-bf8e0710b322"
      },
      "execution_count": 3,
      "outputs": [
        {
          "output_type": "stream",
          "name": "stdout",
          "text": [
            "shape of x_train_vec is(60000, 28, 28, 1)\n",
            "shape of x_test_vec is(10000, 28, 28, 1)\n"
          ]
        }
      ]
    },
    {
      "cell_type": "code",
      "source": [
        "# y값(label) 전처리\n",
        "# integer -> One-hot Encoding\n",
        "import numpy as np\n",
        "\n",
        "def to_one_hot(labels, dimension=10):\n",
        "  results = np.zeros((len(labels), dimension))\n",
        "  for i, label in enumerate(labels):\n",
        "    results[i, label] = 1.\n",
        "  return results\n",
        "\n",
        "y_train_vec = to_one_hot(y_train)\n",
        "y_test_vec = to_one_hot(y_test)\n",
        "\n",
        "print('Shape of y_train_vec is '+ str(y_train_vec.shape))\n",
        "print('Shape of y_test_vec is '+ str(y_test_vec.shape))"
      ],
      "metadata": {
        "colab": {
          "base_uri": "https://localhost:8080/"
        },
        "id": "6sdtHsELaM-G",
        "outputId": "f88bef0e-454e-4f9c-f6fc-c08c86456709"
      },
      "execution_count": 4,
      "outputs": [
        {
          "output_type": "stream",
          "name": "stdout",
          "text": [
            "Shape of y_train_vec is (60000, 10)\n",
            "Shape of y_test_vec is (10000, 10)\n"
          ]
        }
      ]
    },
    {
      "cell_type": "code",
      "source": [
        "# Training data의 일부분을 잘라 Validation data 만들기\n",
        "# Validation data는 트레이닝한 모델을 중간에 확인하기 위한 검증을 하는데 사용\n",
        "# hyper-parameter를 튜닝하는데에 이용\n",
        "# overfitting(과적합; 기계 학습에서 데이터에 대한 학습이 너무 많이 수행되는 현상)을 방지하는데 사용\n",
        "# 5:1 비율로 사용하였음\n",
        "rand_indices = np.random.permutation(60000)\n",
        "train_indices = rand_indices[0:50000]\n",
        "valid_indices = rand_indices[50000:60000]\n",
        "\n",
        "x_valid_vec = x_train_vec[valid_indices,:,:,:]\n",
        "y_valid_vec = y_train_vec[valid_indices,:]\n",
        "\n",
        "x_train_vec = x_train_vec[train_indices,:,:,:]\n",
        "y_train_vec = y_train_vec[train_indices,:]\n",
        "\n",
        "print(\"shape of x_valid_vec: \"+ str(x_valid_vec.shape))\n",
        "print(\"shape of y_valid_vec: \"+ str(y_valid_vec.shape))\n",
        "print(\"shape of x_train_vec: \"+ str(x_train_vec.shape))\n",
        "print(\"shape of y_train_vec: \"+ str(y_train_vec.shape))"
      ],
      "metadata": {
        "colab": {
          "base_uri": "https://localhost:8080/"
        },
        "id": "peYVwcgQAOjE",
        "outputId": "6c31943e-1a25-4e34-c6ac-49f0bd4be393"
      },
      "execution_count": 5,
      "outputs": [
        {
          "output_type": "stream",
          "name": "stdout",
          "text": [
            "shape of x_valid_vec: (10000, 28, 28, 1)\n",
            "shape of y_valid_vec: (10000, 10)\n",
            "shape of x_train_vec: (50000, 28, 28, 1)\n",
            "shape of y_train_vec: (50000, 10)\n"
          ]
        }
      ]
    },
    {
      "cell_type": "code",
      "source": [
        "## 2. CNN모델 만들기\n",
        "from keras.models import Sequential\n",
        "from keras.layers import Conv2D, MaxPooling2D, Flatten, Dense\n",
        "\n",
        "# Sequential모델은 각 layer에 정확히 하나의 input tensor와 하나의 output tensor가 있을 경우 쓰기에 적절한 모델입니다.\n",
        "model = Sequential()\n",
        "\n",
        "# 첫번째 Convolution layer\n",
        "# 필터 갯수 10, 필터 사이즈 5*5, 활성화함수 relu, stride와 padding은 default값\n",
        "model.add(Conv2D(filters=10, kernel_size=(5,5), activation='relu', input_shape=(28,28,1)))\n",
        "# pooling layer\n",
        "model.add(MaxPooling2D(pool_size=(2,2)))\n",
        "\n",
        "# 두번째 Convolution layer\n",
        "model.add(Conv2D(filters=20, kernel_size=(5,5), activation='relu'))\n",
        "# pooling layer\n",
        "model.add(MaxPooling2D(pool_size=(2,2)))\n",
        "\n",
        "# Flatten layer\n",
        "model.add(Flatten())\n",
        "\n",
        "# Dense layer\n",
        "# 추출된 feature들을 하나의 layer로 모으기 위한 layer\n",
        "model.add(Dense(units=100,activation='relu'))\n",
        "model.add(Dense(units=10,activation='softmax'))\n",
        "\n",
        "model.summary()"
      ],
      "metadata": {
        "colab": {
          "base_uri": "https://localhost:8080/"
        },
        "id": "tmOorpEzBk1n",
        "outputId": "8d8de05a-e3d7-474f-b88c-23193baa27c8"
      },
      "execution_count": 8,
      "outputs": [
        {
          "output_type": "stream",
          "name": "stdout",
          "text": [
            "Model: \"sequential_2\"\n",
            "_________________________________________________________________\n",
            " Layer (type)                Output Shape              Param #   \n",
            "=================================================================\n",
            " conv2d_4 (Conv2D)           (None, 24, 24, 10)        260       \n",
            "                                                                 \n",
            " max_pooling2d_4 (MaxPooling  (None, 12, 12, 10)       0         \n",
            " 2D)                                                             \n",
            "                                                                 \n",
            " conv2d_5 (Conv2D)           (None, 8, 8, 20)          5020      \n",
            "                                                                 \n",
            " max_pooling2d_5 (MaxPooling  (None, 4, 4, 20)         0         \n",
            " 2D)                                                             \n",
            "                                                                 \n",
            " flatten_1 (Flatten)         (None, 320)               0         \n",
            "                                                                 \n",
            " dense_1 (Dense)             (None, 100)               32100     \n",
            "                                                                 \n",
            " dense_2 (Dense)             (None, 10)                1010      \n",
            "                                                                 \n",
            "=================================================================\n",
            "Total params: 38,390\n",
            "Trainable params: 38,390\n",
            "Non-trainable params: 0\n",
            "_________________________________________________________________\n"
          ]
        }
      ]
    },
    {
      "cell_type": "code",
      "source": [
        "from keras.utils import plot_model\n",
        "\n",
        "plot_model(model)"
      ],
      "metadata": {
        "colab": {
          "base_uri": "https://localhost:8080/",
          "height": 758
        },
        "id": "4fW0xaB9E3XD",
        "outputId": "196dff8d-f55b-4dfd-ffc5-8192e4ddd59e"
      },
      "execution_count": 9,
      "outputs": [
        {
          "output_type": "execute_result",
          "data": {
            "image/png": "[encoded data removed]",
            "text/plain": [
              "<IPython.core.display.Image object>"
            ]
          },
          "metadata": {},
          "execution_count": 9
        }
      ]
    },
    {
      "cell_type": "code",
      "source": [
        "## 3.구축한 CNN 모델 학습시키기\n",
        "from keras.optimizers import RMSprop\n",
        "\n",
        "# epoch : 전체 데이터 셋에 대해 x번의 학습을 완료하는 상태 ex)50 일경우 전체데이터를 50번 사용하여 학습을 시킴\n",
        "# epoch값을 잘 설정해야함. 오버피팅, 언더피팅 방지\n",
        "# batch_size : 모델 트레이닝 과정에서 gradient값을 업데이트 할 때마다 쓰일 데이터 샘플의 갯수\n",
        "model.compile(optimizer=RMSprop(lr=0.0001), loss='categorical_crossentropy', metrics=['accuracy'])\n",
        "history = model.fit(x_train_vec, y_train_vec, batch_size=128, epochs=50, validation_data=(x_valid_vec, y_valid_vec))"
      ],
      "metadata": {
        "colab": {
          "base_uri": "https://localhost:8080/"
        },
        "id": "v5kicNvGFiCz",
        "outputId": "8788a2f8-f332-4afd-8d3d-cb523089af5a"
      },
      "execution_count": 13,
      "outputs": [
        {
          "output_type": "stream",
          "name": "stdout",
          "text": [
            "Epoch 1/50\n",
            "391/391 [==============================] - 11s 6ms/step - loss: 4.2193 - accuracy: 0.7122 - val_loss: 0.8273 - val_accuracy: 0.8742\n",
            "Epoch 2/50\n",
            "391/391 [==============================] - 2s 5ms/step - loss: 0.5977 - accuracy: 0.9039 - val_loss: 0.4447 - val_accuracy: 0.9203\n",
            "Epoch 3/50\n",
            "391/391 [==============================] - 2s 5ms/step - loss: 0.3454 - accuracy: 0.9354 - val_loss: 0.3084 - val_accuracy: 0.9388\n",
            "Epoch 4/50\n",
            "391/391 [==============================] - 2s 5ms/step - loss: 0.2360 - accuracy: 0.9499 - val_loss: 0.2462 - val_accuracy: 0.9481\n",
            "Epoch 5/50\n",
            "391/391 [==============================] - 2s 5ms/step - loss: 0.1763 - accuracy: 0.9591 - val_loss: 0.2312 - val_accuracy: 0.9531\n",
            "Epoch 6/50\n",
            "391/391 [==============================] - 2s 5ms/step - loss: 0.1408 - accuracy: 0.9657 - val_loss: 0.1817 - val_accuracy: 0.9591\n",
            "Epoch 7/50\n",
            "391/391 [==============================] - 2s 5ms/step - loss: 0.1121 - accuracy: 0.9711 - val_loss: 0.1613 - val_accuracy: 0.9629\n",
            "Epoch 8/50\n",
            "391/391 [==============================] - 2s 5ms/step - loss: 0.0931 - accuracy: 0.9754 - val_loss: 0.1521 - val_accuracy: 0.9639\n",
            "Epoch 9/50\n",
            "391/391 [==============================] - 2s 5ms/step - loss: 0.0787 - accuracy: 0.9788 - val_loss: 0.1375 - val_accuracy: 0.9673\n",
            "Epoch 10/50\n",
            "391/391 [==============================] - 2s 5ms/step - loss: 0.0662 - accuracy: 0.9814 - val_loss: 0.1346 - val_accuracy: 0.9691\n",
            "Epoch 11/50\n",
            "391/391 [==============================] - 2s 5ms/step - loss: 0.0578 - accuracy: 0.9835 - val_loss: 0.1207 - val_accuracy: 0.9712\n",
            "Epoch 12/50\n",
            "391/391 [==============================] - 2s 5ms/step - loss: 0.0504 - accuracy: 0.9853 - val_loss: 0.1206 - val_accuracy: 0.9712\n",
            "Epoch 13/50\n",
            "391/391 [==============================] - 2s 5ms/step - loss: 0.0436 - accuracy: 0.9872 - val_loss: 0.1180 - val_accuracy: 0.9723\n",
            "Epoch 14/50\n",
            "391/391 [==============================] - 2s 5ms/step - loss: 0.0376 - accuracy: 0.9891 - val_loss: 0.1136 - val_accuracy: 0.9745\n",
            "Epoch 15/50\n",
            "391/391 [==============================] - 2s 5ms/step - loss: 0.0337 - accuracy: 0.9900 - val_loss: 0.1087 - val_accuracy: 0.9741\n",
            "Epoch 16/50\n",
            "391/391 [==============================] - 2s 5ms/step - loss: 0.0294 - accuracy: 0.9911 - val_loss: 0.1106 - val_accuracy: 0.9745\n",
            "Epoch 17/50\n",
            "391/391 [==============================] - 2s 5ms/step - loss: 0.0256 - accuracy: 0.9922 - val_loss: 0.1122 - val_accuracy: 0.9745\n",
            "Epoch 18/50\n",
            "391/391 [==============================] - 2s 5ms/step - loss: 0.0224 - accuracy: 0.9931 - val_loss: 0.1074 - val_accuracy: 0.9760\n",
            "Epoch 19/50\n",
            "391/391 [==============================] - 2s 5ms/step - loss: 0.0199 - accuracy: 0.9939 - val_loss: 0.1125 - val_accuracy: 0.9758\n",
            "Epoch 20/50\n",
            "391/391 [==============================] - 2s 5ms/step - loss: 0.0173 - accuracy: 0.9949 - val_loss: 0.1093 - val_accuracy: 0.9764\n",
            "Epoch 21/50\n",
            "391/391 [==============================] - 2s 5ms/step - loss: 0.0156 - accuracy: 0.9952 - val_loss: 0.1080 - val_accuracy: 0.9777\n",
            "Epoch 22/50\n",
            "391/391 [==============================] - 2s 5ms/step - loss: 0.0130 - accuracy: 0.9961 - val_loss: 0.1037 - val_accuracy: 0.9781\n",
            "Epoch 23/50\n",
            "391/391 [==============================] - 2s 5ms/step - loss: 0.0114 - accuracy: 0.9968 - val_loss: 0.1069 - val_accuracy: 0.9783\n",
            "Epoch 24/50\n",
            "391/391 [==============================] - 2s 5ms/step - loss: 0.0099 - accuracy: 0.9974 - val_loss: 0.1093 - val_accuracy: 0.9787\n",
            "Epoch 25/50\n",
            "391/391 [==============================] - 2s 5ms/step - loss: 0.0091 - accuracy: 0.9975 - val_loss: 0.1108 - val_accuracy: 0.9781\n",
            "Epoch 26/50\n",
            "391/391 [==============================] - 2s 5ms/step - loss: 0.0079 - accuracy: 0.9976 - val_loss: 0.1075 - val_accuracy: 0.9790\n",
            "Epoch 27/50\n",
            "391/391 [==============================] - 2s 5ms/step - loss: 0.0065 - accuracy: 0.9983 - val_loss: 0.1131 - val_accuracy: 0.9781\n",
            "Epoch 28/50\n",
            "391/391 [==============================] - 2s 5ms/step - loss: 0.0061 - accuracy: 0.9985 - val_loss: 0.1075 - val_accuracy: 0.9794\n",
            "Epoch 29/50\n",
            "391/391 [==============================] - 2s 5ms/step - loss: 0.0052 - accuracy: 0.9987 - val_loss: 0.1072 - val_accuracy: 0.9800\n",
            "Epoch 30/50\n",
            "391/391 [==============================] - 2s 5ms/step - loss: 0.0045 - accuracy: 0.9990 - val_loss: 0.1128 - val_accuracy: 0.9791\n",
            "Epoch 31/50\n",
            "391/391 [==============================] - 2s 5ms/step - loss: 0.0043 - accuracy: 0.9990 - val_loss: 0.1102 - val_accuracy: 0.9803\n",
            "Epoch 32/50\n",
            "391/391 [==============================] - 2s 5ms/step - loss: 0.0036 - accuracy: 0.9991 - val_loss: 0.1095 - val_accuracy: 0.9803\n",
            "Epoch 33/50\n",
            "391/391 [==============================] - 2s 5ms/step - loss: 0.0029 - accuracy: 0.9995 - val_loss: 0.1124 - val_accuracy: 0.9806\n",
            "Epoch 34/50\n",
            "391/391 [==============================] - 2s 5ms/step - loss: 0.0026 - accuracy: 0.9993 - val_loss: 0.1152 - val_accuracy: 0.9793\n",
            "Epoch 35/50\n",
            "391/391 [==============================] - 2s 5ms/step - loss: 0.0025 - accuracy: 0.9994 - val_loss: 0.1100 - val_accuracy: 0.9807\n",
            "Epoch 36/50\n",
            "391/391 [==============================] - 2s 5ms/step - loss: 0.0023 - accuracy: 0.9995 - val_loss: 0.1126 - val_accuracy: 0.9816\n",
            "Epoch 37/50\n",
            "391/391 [==============================] - 2s 5ms/step - loss: 0.0019 - accuracy: 0.9996 - val_loss: 0.1191 - val_accuracy: 0.9804\n",
            "Epoch 38/50\n",
            "391/391 [==============================] - 2s 5ms/step - loss: 0.0019 - accuracy: 0.9995 - val_loss: 0.1117 - val_accuracy: 0.9810\n",
            "Epoch 39/50\n",
            "391/391 [==============================] - 2s 5ms/step - loss: 0.0015 - accuracy: 0.9998 - val_loss: 0.1140 - val_accuracy: 0.9817\n",
            "Epoch 40/50\n",
            "391/391 [==============================] - 2s 5ms/step - loss: 0.0011 - accuracy: 0.9998 - val_loss: 0.1117 - val_accuracy: 0.9815\n",
            "Epoch 41/50\n",
            "391/391 [==============================] - 2s 5ms/step - loss: 0.0012 - accuracy: 0.9998 - val_loss: 0.1184 - val_accuracy: 0.9816\n",
            "Epoch 42/50\n",
            "391/391 [==============================] - 2s 5ms/step - loss: 0.0011 - accuracy: 0.9998 - val_loss: 0.1163 - val_accuracy: 0.9815\n",
            "Epoch 43/50\n",
            "391/391 [==============================] - 2s 5ms/step - loss: 9.2185e-04 - accuracy: 0.9999 - val_loss: 0.1144 - val_accuracy: 0.9833\n",
            "Epoch 44/50\n",
            "391/391 [==============================] - 2s 5ms/step - loss: 7.0539e-04 - accuracy: 0.9999 - val_loss: 0.1199 - val_accuracy: 0.9816\n",
            "Epoch 45/50\n",
            "391/391 [==============================] - 2s 5ms/step - loss: 8.8082e-04 - accuracy: 0.9997 - val_loss: 0.1208 - val_accuracy: 0.9832\n",
            "Epoch 46/50\n",
            "391/391 [==============================] - 2s 5ms/step - loss: 5.8985e-04 - accuracy: 0.9998 - val_loss: 0.1208 - val_accuracy: 0.9821\n",
            "Epoch 47/50\n",
            "391/391 [==============================] - 2s 5ms/step - loss: 6.8997e-04 - accuracy: 0.9998 - val_loss: 0.1211 - val_accuracy: 0.9824\n",
            "Epoch 48/50\n",
            "391/391 [==============================] - 2s 5ms/step - loss: 4.8902e-04 - accuracy: 0.9999 - val_loss: 0.1270 - val_accuracy: 0.9833\n",
            "Epoch 49/50\n",
            "391/391 [==============================] - 2s 5ms/step - loss: 5.1104e-04 - accuracy: 0.9999 - val_loss: 0.1265 - val_accuracy: 0.9834\n",
            "Epoch 50/50\n",
            "391/391 [==============================] - 2s 5ms/step - loss: 4.2682e-04 - accuracy: 0.9999 - val_loss: 0.1288 - val_accuracy: 0.9823\n"
          ]
        }
      ]
    },
    {
      "cell_type": "code",
      "source": [
        "## 4.모델평가\n",
        "import matplotlib.pyplot as plt\n",
        "%matplotlib inline\n",
        "\n",
        "epochs = range(50)\n",
        "train_acc = history.history['accuracy']\n",
        "valid_acc = history.history['val_accuracy']\n",
        "plt.plot(epochs, train_acc, 'bo', label='Training Accuracy')\n",
        "plt.plot(epochs, valid_acc, 'r', label = 'Validation Accuracy')\n",
        "plt.xlabel('Epochs')\n",
        "plt.ylabel('Accuracy')\n",
        "plt.legend()\n",
        "plt.show()\n",
        "\n",
        "# Validation accuracy가 Training accuracy보다 조금 아래에 위치함 - underfitting발생\n",
        "# 실제 모델 구현시 이 과정에서 hyper-parameter 튜닝이 실행되어야함.\n",
        "# 하이퍼 파라미터는 모델링할 때 사용자가 직접 세팅해주는 값을 뜻합니다."
      ],
      "metadata": {
        "colab": {
          "base_uri": "https://localhost:8080/",
          "height": 279
        },
        "id": "wgXArl7QJaBG",
        "outputId": "adb3bc55-0172-4b40-d480-7c9d6c9cbed5"
      },
      "execution_count": 14,
      "outputs": [
        {
          "output_type": "display_data",
          "data": {
            "text/plain": [
              "<Figure size 432x288 with 1 Axes>"
            ],
            "image/png": "[encoded data removed]"
          },
          "metadata": {
            "needs_background": "light"
          }
        }
      ]
    },
    {
      "cell_type": "code",
      "source": [
        "# Test data로 모델 테스트\n",
        "loss_and_acc = model.evaluate(x_test_vec, y_test_vec)\n",
        "print('loss = '+ str(loss_and_acc[0]))\n",
        "print('accuracy = '+str(loss_and_acc[1]))"
      ],
      "metadata": {
        "colab": {
          "base_uri": "https://localhost:8080/"
        },
        "id": "uL3JuhtSLlvl",
        "outputId": "af5d3237-816b-495a-90fd-c2c2bccc06fa"
      },
      "execution_count": 15,
      "outputs": [
        {
          "output_type": "stream",
          "name": "stdout",
          "text": [
            "313/313 [==============================] - 1s 4ms/step - loss: 0.1201 - accuracy: 0.9822\n",
            "loss = 0.12012523412704468\n",
            "accuracy = 0.982200026512146\n"
          ]
        }
      ]
    },
    {
      "cell_type": "code",
      "source": [],
      "metadata": {
        "id": "3FcFgpmPMQyL"
      },
      "execution_count": null,
      "outputs": []
    }
  ]
}
