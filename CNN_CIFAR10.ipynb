{
  "nbformat": 4,
  "nbformat_minor": 0,
  "metadata": {
    "colab": {
      "provenance": [],
      "authorship_tag": "ABX9TyMSdnDk7h87nNt+92MVcl1W",
      "include_colab_link": true
    },
    "kernelspec": {
      "name": "python3",
      "display_name": "Python 3"
    },
    "language_info": {
      "name": "python"
    },
    "accelerator": "GPU",
    "gpuClass": "standard"
  },
  "cells": [
    {
      "cell_type": "markdown",
      "metadata": {
        "id": "view-in-github",
        "colab_type": "text"
      },
      "source": [
        "<a href=\"https://colab.research.google.com/github/Crazytiger0527/Study_Pytorch/blob/main/CNN_CIFAR10.ipynb\" target=\"_parent\"><img src=\"https://colab.research.google.com/assets/colab-badge.svg\" alt=\"Open In Colab\"/></a>"
      ]
    },
    {
      "cell_type": "code",
      "execution_count": null,
      "metadata": {
        "id": "11fyLcACMkjh"
      },
      "outputs": [],
      "source": [
        "import torch\n",
        "import torchvision\n",
        "import torchvision.transforms as transforms\n",
        "from torch.utils.data import DataLoader\n",
        "import torch.nn as nn\n",
        "import torch.nn.functional as F\n",
        "import torch.optim as optim\n",
        "import matplotlib.pyplot as plt"
      ]
    },
    {
      "cell_type": "code",
      "source": [
        "from google.colab import drive\n",
        "drive.mount('/content/drive')"
      ],
      "metadata": {
        "colab": {
          "base_uri": "https://localhost:8080/"
        },
        "id": "Xt7mU2bFRBQm",
        "outputId": "4c65901e-d451-4e1b-e0d7-e03034acc689"
      },
      "execution_count": null,
      "outputs": [
        {
          "output_type": "stream",
          "name": "stdout",
          "text": [
            "Mounted at /content/drive\n"
          ]
        }
      ]
    },
    {
      "cell_type": "code",
      "source": [
        "cd/content/drive/MyDrive/deeplearningbro/deeplearningbro/pytorch"
      ],
      "metadata": {
        "colab": {
          "base_uri": "https://localhost:8080/"
        },
        "id": "xWs3azNXRMRw",
        "outputId": "d40edba7-0c89-445d-e20b-a8473f7e9c47"
      },
      "execution_count": null,
      "outputs": [
        {
          "output_type": "stream",
          "name": "stdout",
          "text": [
            "/content/drive/MyDrive/deeplearningbro/deeplearningbro/pytorch\n"
          ]
        }
      ]
    },
    {
      "cell_type": "code",
      "source": [
        "# CIFAR10 사용 torchvision datasets에서 제공해줌 10개의 클래스를 가진 이미지데이터\n",
        "# 데이터 불러오기\n",
        "\n",
        "# 텐서로 바꾸고 정규화\n",
        "transform = transforms.Compose(\n",
        "    [transforms.ToTensor(),\n",
        "     transforms.Normalize((0.5, 0.5, 0.5),(0.5, 0.5, 0.5))])\n",
        "\n",
        "trainset = torchvision.datasets.CIFAR10(root='./data', train=True, download=True, transform=transform)\n",
        "trainloader = torch.utils.data.DataLoader(trainset, batch_size=8, shuffle=True)\n",
        "\n",
        "testset = torchvision.datasets.CIFAR10(root='./data', train=False, download=True, transform=transform)\n",
        "testloader = torch.utils.data.DataLoader(testset, batch_size=8, shuffle=False)"
      ],
      "metadata": {
        "colab": {
          "base_uri": "https://localhost:8080/"
        },
        "id": "4ffuKb3mSh7O",
        "outputId": "5a80d724-ecdc-4cc0-e6ad-5642cc4d773f"
      },
      "execution_count": null,
      "outputs": [
        {
          "output_type": "stream",
          "name": "stdout",
          "text": [
            "Files already downloaded and verified\n",
            "Files already downloaded and verified\n"
          ]
        }
      ]
    },
    {
      "cell_type": "code",
      "source": [
        "device = torch.device(\"cuda:0\" if torch.cuda.is_available() else \"cpu\")\n",
        "print(f'{device} is avaliable')"
      ],
      "metadata": {
        "colab": {
          "base_uri": "https://localhost:8080/"
        },
        "id": "gS5DLiheU3Gn",
        "outputId": "6b76335f-8a86-4a1a-e788-b8c52fcae446"
      },
      "execution_count": null,
      "outputs": [
        {
          "output_type": "stream",
          "name": "stdout",
          "text": [
            "cuda:0 is avaliable\n"
          ]
        }
      ]
    },
    {
      "cell_type": "code",
      "source": [
        "# CNN모델구축\n",
        "class Net(nn.Module):\n",
        "  def __init__(self):\n",
        "    super(Net, self).__init__()\n",
        "    self.conv1 = nn.Conv2d(3, 6, 5)   # 합성곱 연산(입력 채널수, 출력 채널수, 필터크기, stride=1(defualt))\n",
        "    self.pool1 = nn.MaxPool2d(2, 2)   # 합성곱 연산(필터크기, stride)\n",
        "    self.conv2 = nn.Conv2d(6, 16, 5)\n",
        "    self.pool2 = nn.MaxPool2d(2,2)\n",
        "    self.fc1 = nn.Linear(16*5*5, 120)  # 5*5 피쳐맵 16개를 일렬로 핌, 히든레이어 120개\n",
        "    self.fc2 = nn.Linear(120, 10)      # 120개의 노드에서 클래스 개수인 10개의 노드로 연산\n",
        "\n",
        "  def forward(self, x):\n",
        "    x = self.pool1(F.relu(self.conv1(x)))   # conv1 -> relu -> pool1\n",
        "    x = self.pool2(F.relu(self.conv2(x)))\n",
        "    x = x.view(-1, 16*5*5)      # 5*5피쳐맵 16개를 일렬로 만듬\n",
        "    x = F.relu(self.fc1(x))     \n",
        "    x = F.relu(self.fc2(x))\n",
        "\n",
        "    return x\n",
        "\n",
        "net = Net().to(device)   # 모델선언"
      ],
      "metadata": {
        "id": "Sg94k3rRXXoa"
      },
      "execution_count": null,
      "outputs": []
    },
    {
      "cell_type": "code",
      "source": [
        "class Net(nn.Module):\n",
        "  def __init__(self):\n",
        "    super(Net, self).__init__()\n",
        "\n",
        "# Sequential을 사용하여 묶어서 할 수도 있다.\n",
        "    self.feature_extraction = nn.Sequential(nn.Conv2d(3, 6, 5),\n",
        "                                            nn.ReLU(),\n",
        "                                            nn.MaxPool2d(2, 2),\n",
        "                                            nn.Conv2d(6, 16, 5),\n",
        "                                            nn.ReLU(),\n",
        "                                            nn.MaxPool2d(2, 2))\n",
        "    self.claaifier = nn.Sequential(nn.Linear(16*5*5, 120),\n",
        "                                   nn.ReLU(),\n",
        "                                   nn.Linear(120, 10),\n",
        "                                   nn.ReLU())\n",
        "    \n",
        "  def forward(self, x):\n",
        "    x = self.feature_extraction(x)\n",
        "    x = x.view(-1, 16*5*5)\n",
        "    x = self.classifier(x)\n",
        "\n",
        "    return x\n",
        "net = Net().to(device)"
      ],
      "metadata": {
        "id": "lQmVNTpZHVSu"
      },
      "execution_count": 14,
      "outputs": []
    },
    {
      "cell_type": "code",
      "source": [
        "print(net)"
      ],
      "metadata": {
        "colab": {
          "base_uri": "https://localhost:8080/"
        },
        "id": "k5skkdFNXyRp",
        "outputId": "5fc70a72-bbda-4c7a-f245-68327480589f"
      },
      "execution_count": 15,
      "outputs": [
        {
          "output_type": "stream",
          "name": "stdout",
          "text": [
            "Net(\n",
            "  (feature_extraction): Sequential(\n",
            "    (0): Conv2d(3, 6, kernel_size=(5, 5), stride=(1, 1))\n",
            "    (1): ReLU()\n",
            "    (2): MaxPool2d(kernel_size=2, stride=2, padding=0, dilation=1, ceil_mode=False)\n",
            "    (3): Conv2d(6, 16, kernel_size=(5, 5), stride=(1, 1))\n",
            "    (4): ReLU()\n",
            "    (5): MaxPool2d(kernel_size=2, stride=2, padding=0, dilation=1, ceil_mode=False)\n",
            "  )\n",
            "  (claaifier): Sequential(\n",
            "    (0): Linear(in_features=400, out_features=120, bias=True)\n",
            "    (1): ReLU()\n",
            "    (2): Linear(in_features=120, out_features=10, bias=True)\n",
            "    (3): ReLU()\n",
            "  )\n",
            ")\n"
          ]
        }
      ]
    },
    {
      "cell_type": "code",
      "source": [
        "# 모델 학습하기\n",
        "criterion = nn.CrossEntropyLoss()\n",
        "optimizer = optim.SGD(net.parameters(), lr=1e-3, momentum=0.9)   # 최적화기법 momentum사용"
      ],
      "metadata": {
        "id": "lW9gskAoZrsL"
      },
      "execution_count": null,
      "outputs": []
    },
    {
      "cell_type": "code",
      "source": [
        "loss_ = []\n",
        "n = len(trainloader)\n",
        "\n",
        "for epoch in range(10):\n",
        "  running_loss = 0.0\n",
        "  for i, data in enumerate(trainloader, 0):\n",
        "    inputs, labels = data[0].to(device), data[1].to(device)\n",
        "    optimizer.zero_grad()\n",
        "\n",
        "    outputs = net(inputs)       # 예측값 산출\n",
        "    loss = criterion(outputs, labels)  # 손실함수 계산\n",
        "    loss.backward()           # 손실함수 기준으로 역전파 선언\n",
        "    optimizer.step()          # 가중치 최적화\n",
        "\n",
        "    running_loss += loss.item()\n",
        "\n",
        "  loss_.append(running_loss / n)       # 평균loss\n",
        "  print('[%d] loss: %.3f'%(epoch+1, running_loss / len(trainloader)))\n",
        "\n",
        "print('Finished Training')"
      ],
      "metadata": {
        "colab": {
          "base_uri": "https://localhost:8080/"
        },
        "id": "YCZslBEmciG4",
        "outputId": "72e86886-2dee-4912-936a-0385c29c9925"
      },
      "execution_count": null,
      "outputs": [
        {
          "output_type": "stream",
          "name": "stdout",
          "text": [
            "[1] loss: 1.827\n",
            "[2] loss: 1.383\n",
            "[3] loss: 1.229\n",
            "[4] loss: 1.133\n",
            "[5] loss: 1.060\n",
            "[6] loss: 0.999\n",
            "[7] loss: 0.949\n",
            "[8] loss: 0.904\n",
            "[9] loss: 0.869\n",
            "[10] loss: 0.832\n",
            "Finished Training\n"
          ]
        }
      ]
    },
    {
      "cell_type": "code",
      "source": [
        "plt.plot(loss_)\n",
        "plt.title(\"Training Loss\")\n",
        "plt.xlabel(\"epoch\")\n",
        "plt.show()"
      ],
      "metadata": {
        "colab": {
          "base_uri": "https://localhost:8080/",
          "height": 295
        },
        "id": "2XwzX9y4dq1h",
        "outputId": "07822230-5b96-4c3a-e8dc-db02e974e264"
      },
      "execution_count": null,
      "outputs": [
        {
          "output_type": "display_data",
          "data": {
            "text/plain": [
              "<Figure size 432x288 with 1 Axes>"
            ],
            "image/png": "[encoded data removed]"
          },
          "metadata": {
            "needs_background": "light"
          }
        }
      ]
    },
    {
      "cell_type": "code",
      "source": [
        "#모델 정확도 구하기\n",
        "correct = 0\n",
        "total = 0\n",
        "with torch.no_grad():\n",
        "  for data in testloader:\n",
        "    images, labels = data[0].to(device), data[1].to(device)\n",
        "    outputs = net(images)\n",
        "    _, predicted = torch.max(outputs.data, 1)\n",
        "    total += labels.size(0)\n",
        "    correct += (predicted == labels).sum().item()\n",
        "\n",
        "print(\"Accuracy of the network on the 10000test images: %d %%\" % (100*correct/total))"
      ],
      "metadata": {
        "colab": {
          "base_uri": "https://localhost:8080/"
        },
        "id": "cPqdX_IbkUsM",
        "outputId": "5c73f5fe-5af4-452a-a52c-0ede0e4d7e46"
      },
      "execution_count": null,
      "outputs": [
        {
          "output_type": "stream",
          "name": "stdout",
          "text": [
            "Accuracy of the network on the 10000test images: 64 %\n"
          ]
        }
      ]
    },
    {
      "cell_type": "code",
      "source": [],
      "metadata": {
        "id": "Ujq3hY4k7gdc"
      },
      "execution_count": null,
      "outputs": []
    }
  ]
}