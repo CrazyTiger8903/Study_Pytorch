{
  "nbformat": 4,
  "nbformat_minor": 0,
  "metadata": {
    "colab": {
      "provenance": [],
      "authorship_tag": "ABX9TyPmMQEa+/LMpwO5qDeh6Ew3",
      "include_colab_link": true
    },
    "kernelspec": {
      "name": "python3",
      "display_name": "Python 3"
    },
    "language_info": {
      "name": "python"
    }
  },
  "cells": [
    {
      "cell_type": "markdown",
      "metadata": {
        "id": "view-in-github",
        "colab_type": "text"
      },
      "source": [
        "<a href=\"https://colab.research.google.com/github/CrazyTiger8903/Study_Pytorch/blob/main/boundary_unlearning_rapid_forgetting_of_deep_networks_via_shifting_the_decision_boundary.ipynb\" target=\"_parent\"><img src=\"https://colab.research.google.com/assets/colab-badge.svg\" alt=\"Open In Colab\"/></a>"
      ]
    },
    {
      "cell_type": "markdown",
      "source": [
        "# boundary unlearning: rapid forgetting of deep networks via shifting the decision boundary(CVPR 2023)"
      ],
      "metadata": {
        "id": "QHmQ3CsHFzKm"
      }
    },
    {
      "cell_type": "markdown",
      "source": [
        "## Introduction\n",
        "\n",
        "---\n",
        "\n",
        "- Machine Unlearing : 머신러닝 모델이 일부 학습 데이터를 잊도록 하거나 그 계통을 삭제시키는 것을 의미\n",
        "\n",
        "- 왜 필요한가?\n",
        "  1.   \"the right to be forgotten\" : 개인 데이터의 삭제를 요청하면 기업은 반드시 삭제해야한다(GDPR)\n",
        "  2.   머신러닝 모델에 유용\n",
        "    -   데이터 중독 공격(학습 데이터를 조작하여 모델의 성능 저하 또는 잘못 판단하도록 하는 공격)\n",
        "    -   시간이 지나 유효하지 않은 학습 데이터\n",
        "    -   학습 후 학습 데이터가 오류로 판단\n",
        "\n",
        "- 초기연구\n",
        "  1.   처음 부터 retraining -> 시간 오래 걸림\n",
        "  2.   모델 파라미터를 scrubbing(정리)하여 forgetting data(삭제 대상 데이터)의 영향을 제거 -> 파라미터 space 차원이 너무 크기 때문에 cost가 비싸다.\n",
        "\n",
        "- Retrained Model의 결정 공간 특징\n",
        "  1.   forgetting samples가 모델의 결정 공간 전체에 퍼져 있다. 즉 forgetting samples의 결정 경계가 깨졌다.\n",
        "  2.   대부분의 forgetting samples는 다른 클러스터의 경계로 이동\n",
        "    - closest-to-boundary criterion : 결정 공간의 클러스터 경계에 있는 샘플은 예측 시 높은 불확실성을 보일 가능성이 크다.\n",
        "  3. 이러한 특징은 machine unlearning의 2가지 목표에 자연스럽게 부합한다.\n",
        "    - Utility guarantee(유용성 보장) : forgetting data(삭제 대상 데이터)에 대해서는 일반화 성능이 낮아야 하며, 나머지 데이터에 대한 예측 성능은 유지되어야 한다.\n",
        "    - privacy guarantee : unlearned 모델은 삭제 대상 데이터의 정보를 유출해서는 안된다.\n",
        "    - 이 논문에서는 forgetting data의 경계만 파괴하고, 나머지는 유지함으로써 Utility guarantee를 달성하고, forgetting data를 다른 클러스터의 경계로 밀어냄으로써 privacy guarantee를 달성한다.\n",
        "\n",
        "  <img src='https://drive.google.com/uc?id=1KuoVnQL0p0YejkocQIq172TBEVomaasD'/>\n",
        "\n",
        "- Boundary Unlearning\n",
        "  1. 결정 공간에서 결정 경계를 이동시켜 빠르고 효과적으로 모델에서 삭제 대상 클래스를 잊게 하는 방법인 \"Boundary Unlearning\" 제안\n",
        "  2. Boundary Shrink : forgetting class(삭제 대상 클래스)를 다른 클래스로 분할하여 결정 경계를 파괴.\n",
        "  3. Boundary Expanding : forgetting 데이터를 shadow class로 매핑 후 이 클래스를 제거하여 활성화를 분산.\n",
        "\n",
        "\n"
      ],
      "metadata": {
        "id": "hQdo0cLZnbF3"
      }
    },
    {
      "cell_type": "markdown",
      "source": [
        "## Related Work\n",
        "\n",
        "---\n",
        "\n"
      ],
      "metadata": {
        "id": "wVRwqnKGxGbV"
      }
    },
    {
      "cell_type": "markdown",
      "source": [
        "## Preliminaries and Notation\n",
        "---"
      ],
      "metadata": {
        "id": "YmxaVZBLxOe0"
      }
    },
    {
      "cell_type": "markdown",
      "source": [
        "## Proposed Methods\n",
        "---"
      ],
      "metadata": {
        "id": "pdp77eYVxSyY"
      }
    },
    {
      "cell_type": "markdown",
      "source": [
        "## Performance Evaluation\n",
        "\n",
        "---"
      ],
      "metadata": {
        "id": "81_JJpKWxTc8"
      }
    },
    {
      "cell_type": "markdown",
      "source": [
        "# 코드 구현"
      ],
      "metadata": {
        "id": "v78q98tfzwqD"
      }
    },
    {
      "cell_type": "code",
      "source": [],
      "metadata": {
        "id": "mJyL2mwdqf8u"
      },
      "execution_count": null,
      "outputs": []
    }
  ]
}